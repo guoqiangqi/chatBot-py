{
 "cells": [
  {
   "cell_type": "markdown",
   "id": "83cdb42a",
   "metadata": {},
   "source": [
    "### Langchain Agents的使用介绍\n",
    "langchain 通过提供 `Agents` 拓展其与外部平台交互能力，`Agents`核心思想是使用语言模型（LLM）选择一系列要执行的动作并通过`Tool`和`Toolkits`执行。在`chain`的链式行为中，一系列动作是硬编码在代码中。而在`Agents`中，语言模型被用作推理引擎来确定要采取的动作及其顺序。它有以下几个关键概念：\n",
    "- Agent: 利用 LLM 和 Prompt设计来决定下一步该采取什么行动。\n",
    "- Tools: Agent调用的函数，需要基于动作执行的权限。\n",
    "- Toolkits: 一组用于实现特定目标的工具，通常包含3-5个工具。\n",
    "- AgentExecutor: 通常是为 Agent 的 runtime， 调用agent并通过tool完成动作执行。\n",
    "\n",
    "下面我们将逐步介绍如何利用 Agents 实现与搜索引擎和其他平台交互。"
   ]
  },
  {
   "cell_type": "markdown",
   "id": "ab56c97f",
   "metadata": {},
   "source": [
    "**Step 1. Load LLM models**  \n",
    "Agent 依赖模型决策工具执行顺序，这里使用 gpt-3.5-turbo"
   ]
  },
  {
   "cell_type": "code",
   "execution_count": 1,
   "id": "e434e758",
   "metadata": {
    "vscode": {
     "languageId": "plaintext"
    }
   },
   "outputs": [],
   "source": [
    "from langchain.chat_models import ChatOpenAI\n",
    "\n",
    "llm = ChatOpenAI(model_name=\"gpt-3.5-turbo\", temperature=0)"
   ]
  },
  {
   "cell_type": "markdown",
   "id": "5ae2e0b8",
   "metadata": {},
   "source": [
    "**Step 2. Defining Custom Tools**  \n",
    "Tools 是 Agent 调用的功能。在这里有两个重要的考虑因素：\n",
    "\n",
    "- 给予 Agent 访问相应工具的权限。\n",
    "- 以对 Agent 最有帮助的方式描述工具作用。\n",
    "如果没有这两点，试图构建的 Agent 将无法工作。如果没有正确配置工具权限，Agent 将永远无法完成动作执行。如果没有正确地描述工具作用，Agent 将不知如何正确使用它们。\n",
    "\n",
    "LangChain提供了一个广泛的工具集，同时也可以轻松自定义（包括自定义描述）。完整的[工具列表](https://python.langchain.com/docs/integrations/tools/)。\n",
    "\n",
    "这里为了展示细节，我们分别自定义工具和载入已有工具。"
   ]
  },
  {
   "cell_type": "code",
   "execution_count": 2,
   "id": "83b09d70",
   "metadata": {
    "vscode": {
     "languageId": "plaintext"
    }
   },
   "outputs": [],
   "source": [
    "from typing import Optional, Type\n",
    "\n",
    "from langchain.callbacks.manager import (\n",
    "    AsyncCallbackManagerForToolRun,\n",
    "    CallbackManagerForToolRun,\n",
    ")\n",
    "\n",
    "from langchain import SerpAPIWrapper\n",
    "from langchain.agents import load_tools\n",
    "from langchain.tools import BaseTool\n",
    "\n",
    "class CustomSearchTool(BaseTool):\n",
    "    name = \"custom_search\"\n",
    "    description = \"useful for when you need to answer questions about current events\"\n",
    "\n",
    "    def _run(\n",
    "        self, query: str, run_manager: Optional[CallbackManagerForToolRun] = None\n",
    "    ) -> str:\n",
    "        \"\"\"Use the tool.\"\"\"\n",
    "        return SerpAPIWrapper().run(query)\n",
    "\n",
    "    async def _arun(\n",
    "        self, query: str, run_manager: Optional[AsyncCallbackManagerForToolRun] = None\n",
    "    ) -> str:\n",
    "        \"\"\"Use the tool asynchronously.\"\"\"\n",
    "        raise NotImplementedError(\"custom_search does not support async\")\n",
    "\n",
    "tools = load_tools([\"openweathermap-api\"], llm)\n",
    "tools.append(CustomSearchTool())"
   ]
  },
  {
   "cell_type": "markdown",
   "id": "eb409388",
   "metadata": {},
   "source": [
    "**Step 3. Defining Agent with Tools**  \n",
    "langchain 提供了多种 Action agents 和 Plan-and-execute agents, 其中前者使用LLM来确定要采取的操作及其顺序。一个操作可以是使用工具并观察其输出，或向用户返回响应。后者主要通过Agent规划要做的事情，然后执行子任务来实现一个目标。详细的 Agent types可参考[文档](https://python.langchain.com/docs/modules/agents/agent_types/)。\n",
    "\n",
    "这里我们使用 `Zero-shot ReAct`进行演示，它是 Action agents 的一种，使用ReAct框架，仅根据工具的描述来确定使用哪个工具。可以提供任意数量的工具。这也是官方文档中介绍为“最通用的 Agent ”。\n"
   ]
  },
  {
   "cell_type": "code",
   "execution_count": 3,
   "id": "93134d69",
   "metadata": {
    "vscode": {
     "languageId": "plaintext"
    }
   },
   "outputs": [],
   "source": [
    "from langchain.agents import AgentType, initialize_agent\n",
    "\n",
    "agent = initialize_agent(\n",
    "    tools, llm, agent=AgentType.ZERO_SHOT_REACT_DESCRIPTION, verbose=True\n",
    ")"
   ]
  },
  {
   "cell_type": "markdown",
   "id": "381911c2",
   "metadata": {},
   "source": [
    "**Step 4. Agent Execute**"
   ]
  },
  {
   "cell_type": "code",
   "execution_count": 4,
   "id": "69c46b71",
   "metadata": {
    "vscode": {
     "languageId": "plaintext"
    }
   },
   "outputs": [
    {
     "name": "stdout",
     "output_type": "stream",
     "text": [
      "\n",
      "\n",
      "\u001b[1m> Entering new AgentExecutor chain...\u001b[0m\n",
      "\u001b[32;1m\u001b[1;3mI need to find information about \"langchain\" and the weather in Beijing.\n",
      "Action: custom_search\n",
      "Action Input: \"langchain\"\u001b[0m\n",
      "Observation: \u001b[33;1m\u001b[1;3mLangChain is a framework designed to simplify the creation of applications using large language models. As a language model integration framework, LangChain's use-cases largely overlap with those of language models in general, including document analysis and summarization, chatbots, and code analysis.\u001b[0m\n",
      "Thought:\u001b[32;1m\u001b[1;3mI have found information about \"langchain\". Now I need to find the weather in Beijing.\n",
      "Action: OpenWeatherMap\n",
      "Action Input: \"Beijing\"\u001b[0m\n",
      "Observation: \u001b[36;1m\u001b[1;3mIn Beijing, the current weather is as follows:\n",
      "Detailed status: scattered clouds\n",
      "Wind speed: 2.97 m/s, direction: 192°\n",
      "Humidity: 65%\n",
      "Temperature: \n",
      "  - Current: 30.94°C\n",
      "  - High: 30.94°C\n",
      "  - Low: 30.94°C\n",
      "  - Feels like: 36.01°C\n",
      "Rain: {}\n",
      "Heat index: None\n",
      "Cloud cover: 45%\u001b[0m\n",
      "Thought:\u001b[32;1m\u001b[1;3mI now know the final answer.\n",
      "Final Answer: LangChain is a framework designed to simplify the creation of applications using large language models. The current weather in Beijing is scattered clouds with a temperature of 30.94°C.\u001b[0m\n",
      "\n",
      "\u001b[1m> Finished chain.\u001b[0m\n"
     ]
    },
    {
     "data": {
      "text/plain": [
       "'LangChain is a framework designed to simplify the creation of applications using large language models. The current weather in Beijing is scattered clouds with a temperature of 30.94°C.'"
      ]
     },
     "execution_count": 4,
     "metadata": {},
     "output_type": "execute_result"
    }
   ],
   "source": [
    "agent.run(\n",
    "    \"What is langchain? What is the weather like in Beijing?\"\n",
    ")"
   ]
  },
  {
   "cell_type": "markdown",
   "id": "ab3b2058-1d72-41cd-a118-33b9a8e9d30d",
   "metadata": {},
   "source": [
    "**Another agent: Self ask with search**  \n",
    "Self ask with search 利用名为`Intermediate Answer`的工具实现查找与问题相关的事实答案。该工具实现类似于\"自问自答\"功能，提供了一个谷歌搜索API作为工具。"
   ]
  },
  {
   "cell_type": "code",
   "execution_count": 7,
   "id": "1ce15fb4-9ba7-4c66-8c70-fcb2aff8d4fc",
   "metadata": {},
   "outputs": [
    {
     "name": "stdout",
     "output_type": "stream",
     "text": [
      "\n",
      "\n",
      "\u001b[1m> Entering new AgentExecutor chain...\u001b[0m\n",
      "\u001b[32;1m\u001b[1;3mYes.\n",
      "Follow up: Who is the reigning men's U.S. Open champion?\u001b[0m\n",
      "Intermediate answer: \u001b[36;1m\u001b[1;3mCarlos Alcaraz won the 2022 Men's single title while Poland's Iga Swiatek won the Women's single title defeating Tunisian's Ons Jabeur.\u001b[0m\n",
      "\u001b[32;1m\u001b[1;3mFollow up: Where is Carlos Alcaraz from?\u001b[0m\n",
      "Intermediate answer: \u001b[36;1m\u001b[1;3mEl Palmar, Spain\u001b[0m\n",
      "\u001b[32;1m\u001b[1;3mSo the final answer is: El Palmar, Spain\u001b[0m\n",
      "\n",
      "\u001b[1m> Finished chain.\u001b[0m\n"
     ]
    },
    {
     "data": {
      "text/plain": [
       "'El Palmar, Spain'"
      ]
     },
     "execution_count": 7,
     "metadata": {},
     "output_type": "execute_result"
    }
   ],
   "source": [
    "from langchain.agents import Tool\n",
    "\n",
    "tools = [\n",
    "    Tool(\n",
    "        name=\"Intermediate Answer\",\n",
    "        func=SerpAPIWrapper().run,\n",
    "        description=\"useful for when you need to ask with search\",\n",
    "    )\n",
    "]\n",
    "\n",
    "self_ask_with_search = initialize_agent(\n",
    "    tools, llm, agent=AgentType.SELF_ASK_WITH_SEARCH, verbose=True\n",
    ")\n",
    "\n",
    "self_ask_with_search.run(\n",
    "    \"What is the hometown of the reigning men's U.S. Open champion?\"\n",
    ")"
   ]
  },
  {
   "cell_type": "code",
   "execution_count": null,
   "id": "f093bdce-63cc-46ae-9ea5-6f68ee2243d6",
   "metadata": {},
   "outputs": [],
   "source": []
  }
 ],
 "metadata": {
  "kernelspec": {
   "display_name": "Python 3 (ipykernel)",
   "language": "python",
   "name": "python3"
  },
  "language_info": {
   "codemirror_mode": {
    "name": "ipython",
    "version": 3
   },
   "file_extension": ".py",
   "mimetype": "text/x-python",
   "name": "python",
   "nbconvert_exporter": "python",
   "pygments_lexer": "ipython3",
   "version": "3.9.0"
  },
  "vscode": {
   "interpreter": {
    "hash": "326c446afddda4b839273de25621e84900c4ad4b47e2cb48ce8457ca7d8b9c23"
   }
  }
 },
 "nbformat": 4,
 "nbformat_minor": 5
}
